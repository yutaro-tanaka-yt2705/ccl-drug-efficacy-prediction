{
  "nbformat": 4,
  "nbformat_minor": 0,
  "metadata": {
    "colab": {
      "name": "0.data_preparation.ipynb",
      "provenance": []
    },
    "kernelspec": {
      "name": "python3",
      "display_name": "Python 3"
    },
    "language_info": {
      "name": "python"
    }
  },
  "cells": [
    {
      "cell_type": "code",
      "execution_count": null,
      "metadata": {
        "id": "ge0Rfppy4QlI"
      },
      "outputs": [],
      "source": [
        "#Using Google CoLab. \n",
        "#Mount Google Drive\n",
        "from google.colab import drive\n",
        "drive.mount('/content/drive')"
      ]
    },
    {
      "cell_type": "code",
      "source": [
        "#Import necessary libraries\n",
        "import pandas as pd\n",
        "import numpy as np\n",
        "import gzip\n",
        "from pathlib import Path"
      ],
      "metadata": {
        "id": "ZoUWgZaf4VQL"
      },
      "execution_count": null,
      "outputs": []
    },
    {
      "cell_type": "code",
      "source": [
        "#Name data path. \n",
        "DATA = Path('/content/drive/MyDrive/5th Semester/ECBM E4060 - Introduction to Genomic Information Science and Technology/final project/data')\n",
        "print(DATA)"
      ],
      "metadata": {
        "id": "g1XKeNvq4WrP"
      },
      "execution_count": null,
      "outputs": []
    },
    {
      "cell_type": "code",
      "source": [
        "## Read GDSC (Genomic Data Sensitivity in Cancer) database. \n",
        "gdsc_filtered = pd.read_excel(DATA/'GDSC1_fitted_dose_response_25Feb20.xlsx')\n",
        "gdsc_filtered['IC50'] = gdsc_filtered['LN_IC50'].apply(lambda LN_IC50: np.exp(LN_IC50)) \n",
        "gdsc_filtered.head()"
      ],
      "metadata": {
        "id": "1tL1V9sM4YUn"
      },
      "execution_count": null,
      "outputs": []
    },
    {
      "cell_type": "code",
      "source": [
        "#Read COSMIC (Catalogue Of Somatic Mutations In Cancer) mutation data\n",
        "cosmic_mutation_data = pd.read_csv(DATA/'CosmicCLP_MutantExport.tsv.gz', error_bad_lines=False, encoding='latin-1', sep='\\t')\n",
        "cosmic_mutation_data.head(2)"
      ],
      "metadata": {
        "id": "eQlcgkOl4ZqK"
      },
      "execution_count": null,
      "outputs": []
    },
    {
      "cell_type": "code",
      "source": [
        "#Filter for cisplatin.\n",
        "gdsc_cisplatin = gdsc_filtered[gdsc_filtered.DRUG_NAME == 'Cisplatin']\n",
        "gdsc_cisplatin.head(2)"
      ],
      "metadata": {
        "id": "ldTvBzIw4ctf"
      },
      "execution_count": null,
      "outputs": []
    },
    {
      "cell_type": "code",
      "source": [
        "#Filter mutation data for cisplatin\n",
        "cosmic_mutation_data_cisplatin = cosmic_mutation_data.loc[cosmic_mutation_data.ID_sample.isin(list(gdsc_cisplatin.COSMIC_ID.unique()))]\n",
        "#Remove ENST number\n",
        "cosmic_mutation_data_cisplatin['gene'] = cosmic_mutation_data_cisplatin['Gene name'].apply(lambda x: x.split('_')[0])\n",
        "cosmic_mutation_data_cisplatin.head(2)"
      ],
      "metadata": {
        "id": "gB3chlLP4gzl"
      },
      "execution_count": null,
      "outputs": []
    },
    {
      "cell_type": "code",
      "source": [
        "cosmic_mutation_data_cisplatin.to_csv(DATA/'cosmic_mutation_data_cisplatin.csv', index=False)"
      ],
      "metadata": {
        "id": "9650Kw-a4m67"
      },
      "execution_count": null,
      "outputs": []
    }
  ]
}